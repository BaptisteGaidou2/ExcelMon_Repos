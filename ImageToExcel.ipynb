{
 "cells": [
  {
   "cell_type": "markdown",
   "id": "511a0b0e",
   "metadata": {},
   "source": [
    "# Notebook : Image Transformations"
   ]
  },
  {
   "cell_type": "code",
   "execution_count": 1,
   "id": "084c4173",
   "metadata": {},
   "outputs": [
    {
     "data": {
      "text/html": [
       "<script src=\"require.js\"></script>\n"
      ],
      "text/plain": [
       "<IPython.core.display.HTML object>"
      ]
     },
     "metadata": {},
     "output_type": "display_data"
    }
   ],
   "source": [
    "%%HTML\n",
    "<script src=\"require.js\"></script>"
   ]
  },
  {
   "cell_type": "markdown",
   "id": "b00954d1",
   "metadata": {},
   "source": [
    "# Sommaire <a class=\"anchor\" id=\"TOC\"></a>\n",
    "* [I)   Importations](#chapter1)\n",
    "* [II)  Opération](#chapter2)\n",
    " *  $\\;$ [A)  Image To Excel Color](#chapter2A)\n",
    " *  $\\;$ [B)  Transparence To Point](#chapter2B)\n",
    " *  $\\;$ [C)  Check Existing Color](#chapter2C)\n",
    " *  $\\;$ [D)  Concatenate Multiple images](#chapter2D)\n",
    " *  $\\;$ [E)  Combat Pokemon Droite Gauche](#chapter2E)\n",
    " \n",
    "* [III) Export](#chapter3)\n",
    "* [IV)  XXX](#chapter4)\n",
    "* [Fin](#END)"
   ]
  },
  {
   "cell_type": "markdown",
   "id": "ee4fc9f2",
   "metadata": {},
   "source": [
    "# I) Importations<a class=\"anchor\" id=\"chapter1\"></a>\n",
    "* [Sommaire](#TOC)\n",
    "## 1) Librairies"
   ]
  },
  {
   "cell_type": "code",
   "execution_count": 2,
   "id": "c9901ea2",
   "metadata": {},
   "outputs": [
    {
     "name": "stdout",
     "output_type": "stream",
     "text": [
      "pandas---------- : 1.4.2\n",
      "numpy----------- : 1.21.5\n",
      "matplotlib------ : 3.5.1\n",
      "PIL------------- : 9.0.1\n",
      "scipy----------- : 1.9.2\n",
      "openpyxl-------- : 3.0.9\n"
     ]
    }
   ],
   "source": [
    "# A) Importations Librairies\n",
    "## a) PATH\n",
    "import sys\n",
    "import os\n",
    "## b) IMAGE\n",
    "import pandas as pd\n",
    "import scipy  as sc#Deprecated\n",
    "import imageio\n",
    "import numpy  as np  # USED\n",
    "import PIL    as PIL # USED\n",
    "import matplotlib       as mpl\n",
    "import matplotlib.image as mpimg\n",
    "## c) EXCEL\n",
    "import openpyxl as openpyxl\n",
    "## d) OTHERS\n",
    "from tqdm.notebook import tqdm\n",
    "all_libs = {\n",
    "    \"pandas\"     : pd,\n",
    "    \"numpy\"      : np,\n",
    "    \"matplotlib\" : mpl,\n",
    "    \"PIL\"        : PIL,\n",
    "    \"scipy\"      : sc,\n",
    "    \"openpyxl\"   : openpyxl,\n",
    "}\n",
    "for nom,lib in all_libs.items():\n",
    "    print(f\"{nom:-<16} : {lib.__version__}\")\n",
    "    \n",
    "# B) Importations Fonction\n",
    "from PIL import Image\n",
    "from scipy import misc\n",
    "from openpyxl import Workbook, load_workbook\n",
    "from openpyxl.utils import get_column_letter\n",
    "from openpyxl.styles import PatternFill\n",
    "from openpyxl.styles.colors import Color"
   ]
  },
  {
   "cell_type": "markdown",
   "id": "c6590d6c",
   "metadata": {},
   "source": [
    "## 2) Paramètres\n",
    "* [Sommaire](#TOC)\n",
    "### A) PATH "
   ]
  },
  {
   "cell_type": "code",
   "execution_count": 8,
   "id": "ba2464c1",
   "metadata": {},
   "outputs": [
    {
     "name": "stdout",
     "output_type": "stream",
     "text": [
      "Path Image : C:\\Users\\bapti\\OneDrive\\Bureau\\Game\\ExcelMon\\Image\\Map\\Asset\\Routes\\route01.png\n",
      "Path Excel : C:\\Users\\bapti\\OneDrive\\Bureau\\Game\\ExcelMon\\ResultsTransformation\\route01.xlsx\n"
     ]
    }
   ],
   "source": [
    "THIS_FOLDER = os.path.abspath('.')\n",
    "FOLDER_IMAGE = \"/Image/Map/Asset/Routes/\"\n",
    "NAME_IMAGE = \"route01\"\n",
    "FORMAT_IMAGE = \".png\"\n",
    "PATH_IMAGE = os.path.abspath(THIS_FOLDER + FOLDER_IMAGE + NAME_IMAGE + FORMAT_IMAGE)\n",
    "print(f\"Path Image : {PATH_IMAGE}\")\n",
    "\n",
    "FOLDER_EXCEL = \"/ResultsTransformation/\"\n",
    "NAME_EXCEL = NAME_IMAGE\n",
    "FORMAT_EXCEL = \".xlsx\"\n",
    "PATH_EXCEL = os.path.abspath (THIS_FOLDER + FOLDER_EXCEL + NAME_EXCEL + FORMAT_EXCEL)\n",
    "print(f\"Path Excel : {PATH_EXCEL}\")"
   ]
  },
  {
   "cell_type": "markdown",
   "id": "2bead294",
   "metadata": {},
   "source": [
    "### B) IMAGE"
   ]
  },
  {
   "cell_type": "code",
   "execution_count": 9,
   "id": "529632cd",
   "metadata": {},
   "outputs": [],
   "source": [
    "def GetInfoImage(image):\n",
    "    return f\"Format : {image.format} | Shape : {image.size} | Mode : {image.mode}\"# Hauteur x Largeur x Pixel\n",
    "\n",
    "# A)\n",
    "def from_image_to_excel(im_np,NAME_IMAGE = NAME_IMAGE):\n",
    "    if  isinstance(im_np,PIL.Image.Image):\n",
    "        im_np =  np.asarray(im_np, dtype=np.float32)\n",
    "    wb = Workbook()\n",
    "    ws = wb.active\n",
    "    ws.title = NAME_IMAGE\n",
    "    for hauteur in tqdm(range(im_np.shape[0])):     # hauteur => row => y\n",
    "        for largeur in range(im_np.shape[1]): # largeur => col => x\n",
    "            r,g,b = im_np[hauteur,largeur,0] , im_np[hauteur,largeur,1] , im_np[hauteur,largeur,2]\n",
    "            if im.mode == \"RGBA\":\n",
    "                a = im_np[hauteur,largeur,3]\n",
    "            else:\n",
    "                a = 255\n",
    "            #aRGB_hex = aRGB2hex(r,g,b,a)\n",
    "            aRGB_hex = RGB2hex(r,g,b)\n",
    "            if a != 0:\n",
    "                ws.cell(row = 1 + hauteur, column = 1 + largeur).fill = PatternFill(fgColor = Color(rgb = aRGB_hex),fill_type=\"solid\")\n",
    "    return wb\n",
    "\n",
    "# B)\n",
    "def check_existing_color(im_np,pixel):\n",
    "    list_rgba_color=[]\n",
    "    list_rgb_color=[]\n",
    "    for hauteur in tqdm(range(im_np.shape[0])):     # hauteur => row => y\n",
    "        for largeur in range(im_np.shape[1]): # largeur => col => x\n",
    "            \n",
    "            if im.mode == \"RGBA\":\n",
    "                r,g,b,a = tuple([im_np[hauteur,largeur,i] for i in range(4)]) \n",
    "            else:\n",
    "                r,g,b = tuple([im_np[hauteur,largeur] for i in range(3)]) \n",
    "                a = 255\n",
    "            list_rgba_color.append(f\"{r}_{g}_{b}_{a}\")  \n",
    "            list_rgb_color.append(f\"{r}_{g}_{b}\")\n",
    "    d = pixel \n",
    "    pixel_rgba = f\"{d['r']}_{d['g']}_{d['b']}_{d['a']}\"\n",
    "    pixel_rgb = f\"{d['r']}_{d['g']}_{d['b']}\"\n",
    "    print(f\"{pixel_rgba} not present : {pixel_rgba not in list_rgba_color}\")\n",
    "    print(f\"{pixel_rgb} not present : {pixel_rgb not in list_rgb_color}\")\n",
    "    return list_rgba_color,list_rgb_color\n",
    "\n",
    "def reshapeImage(im,multiplicator):\n",
    "    image = im.copy()\n",
    "    reshape_size = tuple([int(hw*multiplicator) for hw in image.size])\n",
    "    if multiplicator<1:\n",
    "        image.thumbnail(reshape_size)\n",
    "    elif multiplicator>1:\n",
    "        image = image.resize(reshape_size)\n",
    "    return image\n",
    "    \n",
    "def aRGB2hex(r,g,b,a=0):\n",
    "    return f\"{int(a):02x}{int(r):02x}{int(g):02x}{int(b):02x}\"\n",
    "def RGB2hex(r,g,b):\n",
    "    return f\"{int(r):02x}{int(g):02x}{int(b):02x}\""
   ]
  },
  {
   "cell_type": "code",
   "execution_count": 10,
   "id": "0efd6e4b",
   "metadata": {},
   "outputs": [
    {
     "name": "stdout",
     "output_type": "stream",
     "text": [
      "IMAGE ORIGINEL Format : PNG | Shape : (384, 640) | Mode : RGB\n",
      "IMAGE RESHAPE  Format : None | Shape : (384, 640) | Mode : RGB\n"
     ]
    },
    {
     "data": {
      "image/png": "[encoded data removed]",
      "text/plain": [
       "<PIL.Image.Image image mode=RGB size=384x640 at 0x2F6E632DF40>"
      ]
     },
     "metadata": {},
     "output_type": "display_data"
    }
   ],
   "source": [
    "image = Image.open(PATH_IMAGE)\n",
    "im    = Image.open(PATH_IMAGE)\n",
    "multiplicator = 1\n",
    "im =  reshapeImage(im,multiplicator)\n",
    "\n",
    "im_np = np.asarray(im, dtype=np.float32)\n",
    "\n",
    "print(f\"IMAGE ORIGINEL {GetInfoImage(image)}\")# Hauteur x Largeur x Pixel\n",
    "print(f\"IMAGE RESHAPE  {GetInfoImage(im)}\")# Hauteur x Largeur x Pixel\n",
    "display(im)\n",
    "\n",
    "if im.mode == \"RGBA\":\n",
    "    (r, g, b, a) = im.split()\n",
    "    print(f\"Image Transparence (Values{np.unique(np.asarray(a))}) : \")\n",
    "    display(a)\n",
    "    # PIL.Image.FLIP_LEFT_RIGHT, PIL.Image.FLIP_TOP_BOTTOM, PIL.Image.ROTATE_90, PIL.Image.ROTATE_180, PIL.Image.ROTATE_270 or PIL.Image.TRANSPOSE\n",
    "    # imt = image.transpose(PIL.Image.FLIP_LEFT_RIGHT)\n",
    "    # display(imt)\n",
    "    # im.load()# To directly chane on the image https://en.wikibooks.org/wiki/Python_Imaging_Library/Editing_Pixels"
   ]
  },
  {
   "cell_type": "markdown",
   "id": "3efd4815",
   "metadata": {},
   "source": [
    "# II) Opérations <a class=\"anchor\" id=\"chapter2\"></a>\n",
    "* [Sommaire](#TOC)"
   ]
  },
  {
   "cell_type": "markdown",
   "id": "b5f97128",
   "metadata": {},
   "source": [
    "## A) Image To Excel Color<a class=\"anchor\" id=\"chapter2A\"></a>\n",
    "* [Sommaire](#TOC)"
   ]
  },
  {
   "cell_type": "code",
   "execution_count": null,
   "id": "3aa16cac",
   "metadata": {},
   "outputs": [],
   "source": [
    "wb_im = from_image_to_excel(im_np)\n",
    "print(PATH_EXCEL)\n",
    "wb_im.save(PATH_EXCEL)"
   ]
  },
  {
   "cell_type": "markdown",
   "id": "a3531138",
   "metadata": {},
   "source": [
    "## B) Transparence To Point<a class=\"anchor\" id=\"chapter2B\"></a>\n",
    "* [Sommaire](#TOC)"
   ]
  },
  {
   "cell_type": "code",
   "execution_count": null,
   "id": "5aae2310",
   "metadata": {},
   "outputs": [],
   "source": [
    "taille_case = 16\n",
    "\n",
    "wb = Workbook()\n",
    "ws = wb.active\n",
    "ws.title = NAME_IMAGE\n",
    "for h,hauteur in enumerate(tqdm(np.arange(0,im_np.shape[0],taille_case)),1):     # hauteur => row => y\n",
    "    for l,largeur in enumerate(np.arange(0,im_np.shape[1],taille_case),1): # largeur => col => x\n",
    "        r,g,b = im_np[hauteur,largeur,0] , im_np[hauteur,largeur,1] , im_np[hauteur,largeur,2]\n",
    "        if im.mode == \"RGBA\":\n",
    "            a = im_np[hauteur,largeur,3]\n",
    "        else:\n",
    "            a = 255\n",
    "        #aRGB_hex = aRGB2hex(r,g,b,a)\n",
    "        aRGB_hex = RGB2hex(r,g,b)\n",
    "        if a != 0:\n",
    "            ws.cell(row = h, column = l).fill = PatternFill(fgColor = Color(rgb = aRGB_hex),fill_type=\"solid\")\n",
    "        else:\n",
    "            ws.cell(row = h, column = l).value = \".\""
   ]
  },
  {
   "cell_type": "code",
   "execution_count": null,
   "id": "cb982629",
   "metadata": {},
   "outputs": [],
   "source": [
    "wb.save(PATH_EXCEL)"
   ]
  },
  {
   "cell_type": "markdown",
   "id": "060f03be",
   "metadata": {},
   "source": [
    "## C) Check existing color<a class=\"anchor\" id=\"chapter2C\"></a>\n",
    "* [Sommaire](#TOC)"
   ]
  },
  {
   "cell_type": "code",
   "execution_count": 11,
   "id": "ac314677",
   "metadata": {},
   "outputs": [
    {
     "data": {
      "application/vnd.jupyter.widget-view+json": {
       "model_id": "14f393a6cfb546b687ce67f1c5411670",
       "version_major": 2,
       "version_minor": 0
      },
      "text/plain": [
       "  0%|          | 0/640 [00:00<?, ?it/s]"
      ]
     },
     "metadata": {},
     "output_type": "display_data"
    },
    {
     "name": "stdout",
     "output_type": "stream",
     "text": [
      "255_0_0_255 not present : True\n",
      "255_0_0 not present : True\n"
     ]
    }
   ],
   "source": [
    "pixel={\n",
    "    \"r\":255,\n",
    "    \"g\":0,\n",
    "    \"b\":0,\n",
    "    \"a\":255\n",
    "}\n",
    "\n",
    "check_existing_color(im_np,pixel)"
   ]
  },
  {
   "cell_type": "code",
   "execution_count": 12,
   "id": "d3aad271",
   "metadata": {},
   "outputs": [
    {
     "data": {
      "application/vnd.jupyter.widget-view+json": {
       "model_id": "42a374c8c0ab422fb4be869f3e5675a6",
       "version_major": 2,
       "version_minor": 0
      },
      "text/plain": [
       "  0%|          | 0/640 [00:00<?, ?it/s]"
      ]
     },
     "metadata": {},
     "output_type": "display_data"
    },
    {
     "name": "stdout",
     "output_type": "stream",
     "text": [
      "0_255_0_255 not present : True\n",
      "0_255_0 not present : True\n"
     ]
    }
   ],
   "source": [
    "pixel={\n",
    "    \"r\":0,\n",
    "    \"g\":255,\n",
    "    \"b\":0,\n",
    "    \"a\":255\n",
    "}\n",
    "\n",
    "check_existing_color(im_np,pixel)"
   ]
  },
  {
   "cell_type": "code",
   "execution_count": 13,
   "id": "dec694ab",
   "metadata": {},
   "outputs": [
    {
     "data": {
      "application/vnd.jupyter.widget-view+json": {
       "model_id": "d0928e0a770d48019a3ff8769153c220",
       "version_major": 2,
       "version_minor": 0
      },
      "text/plain": [
       "  0%|          | 0/640 [00:00<?, ?it/s]"
      ]
     },
     "metadata": {},
     "output_type": "display_data"
    },
    {
     "name": "stdout",
     "output_type": "stream",
     "text": [
      "0_0_255_255 not present : True\n",
      "0_0_255 not present : True\n"
     ]
    }
   ],
   "source": [
    "pixel={\n",
    "    \"r\":0,\n",
    "    \"g\":0,\n",
    "    \"b\":255,\n",
    "    \"a\":255\n",
    "}\n",
    "\n",
    "check_existing_color(im_np,pixel)"
   ]
  },
  {
   "cell_type": "markdown",
   "id": "1a1507ce",
   "metadata": {},
   "source": [
    "## D) Concatenate Multiple images<a class=\"anchor\" id=\"chapter2D\"></a>\n",
    "* [Sommaire](#TOC)\n",
    "imt = image.transpose(PIL.Image.FLIP_LEFT_RIGHT)\n"
   ]
  },
  {
   "cell_type": "code",
   "execution_count": 10,
   "id": "4bd6d7b9",
   "metadata": {},
   "outputs": [],
   "source": [
    "def get_concat_h_blank(im1, im2, color=(0, 0, 0),mode_im='RGBA'):\n",
    "    dst = Image.new(mode_im, (im1.width + im2.width, max(im1.height, im2.height)), color)\n",
    "    dst.paste(im1, (0, 0))\n",
    "    dst.paste(im2, (im1.width, 0))\n",
    "    return dst\n",
    "def get_concat_h(im1, im2,mode_im='RGBA'):\n",
    "    dst = Image.new(mode_im, (im1.width + im2.width, max(im1.height, im2.height)))\n",
    "    dst.paste(im1, (0, 0))\n",
    "    dst.paste(im2, (im1.width, 0))\n",
    "    return dst\n",
    "def get_concat_v(im1, im2,mode_im='RGBA'):\n",
    "    dst = Image.new(mode_im, (max(im1.width, im2.width), im1.height + im2.height))\n",
    "    dst.paste(im1, (0, 0))\n",
    "    dst.paste(im2, (im1.width, 0))\n",
    "    return dst\n",
    "def concatenate_image(PATH_LIST_IMAGE,**kwargs):\n",
    "    for i,PATH_IMAGE in enumerate(tqdm(PATH_LIST_IMAGE)):\n",
    "        if i == 0:\n",
    "            image_concat = Image.open(PATH_IMAGE)\n",
    "            continue\n",
    "        image_adding =  Image.open(PATH_IMAGE)\n",
    "        image_concat = get_concat_h(image_concat,image_adding,**kwargs)\n",
    "    return image_concat\n",
    "\n",
    "def concatenate_image_resize(PATH_LIST_IMAGE,multiplicator=1,**kwargs):\n",
    "    for i,PATH_IMAGE in enumerate(tqdm(PATH_LIST_IMAGE)):\n",
    "        if i == 0:\n",
    "            image_concat = reshapeImage(Image.open(PATH_IMAGE),multiplicator)\n",
    "        else:\n",
    "            image_adding =  reshapeImage(Image.open(PATH_IMAGE),multiplicator)\n",
    "            image_concat = get_concat_h(image_concat,image_adding,**kwargs)\n",
    "    return image_concat\n"
   ]
  },
  {
   "cell_type": "code",
   "execution_count": 127,
   "id": "aef3a6f7",
   "metadata": {},
   "outputs": [],
   "source": [
    "multiplicator = 10\n",
    "NB_SPRITE_TOT  = 650\n",
    "NB_SPRITE_USED = 100\n",
    "NB_PIXEL       = 96\n",
    "MAX_COL_BLOC   = 18278\n",
    "MAX_COL_BLOC   = 96*100\n",
    "NB_SPRITE_BLOC = int(MAX_COL_BLOC/NB_PIXEL)\n",
    "c = int(NB_SPRITE_TOT/NB_SPRITE_BLOC)\n",
    "\n",
    "FOLDER_IMAGE = \"/Image/black_white/\"\n",
    "\n",
    "FOLDER_IMAGE_SAVE = \"/Image/Pokedex_Resize/\"# if multiplicator !=1 else \"/Image/Pokedex/\"\n",
    "FOLDER_EXCEL_SAVE = \"/ResultsTransformation/Pokedex_Resize\"# if multiplicator !=1 else \"/ResultsTransformation/Pokedex\"\n",
    "\n",
    "NAME_IMAGE = \"Pokedex\"\n",
    "FORMAT_IMAGE = \".png\"\n",
    "\n",
    "NAME_EXCEL = \"Pokedex\"\n",
    "\n",
    "LIST_NAME_IMAGE = [os.path.abspath(THIS_FOLDER + FOLDER_IMAGE + str(i) + FORMAT_IMAGE) for i in range(NB_SPRITE_USED)] "
   ]
  },
  {
   "cell_type": "code",
   "execution_count": 128,
   "id": "58e5d890",
   "metadata": {},
   "outputs": [
    {
     "name": "stdout",
     "output_type": "stream",
     "text": [
      "Path Image : C:\\Users\\bapti\\OneDrive\\Bureau\\ExcelMon\\Image\\Pokedex_Resize\\Pokedex_10.png\n"
     ]
    },
    {
     "data": {
      "application/vnd.jupyter.widget-view+json": {
       "model_id": "142a53c921e748a78d944d477be3950e",
       "version_major": 2,
       "version_minor": 0
      },
      "text/plain": [
       "  0%|          | 0/100 [00:00<?, ?it/s]"
      ]
     },
     "metadata": {},
     "output_type": "display_data"
    },
    {
     "name": "stdout",
     "output_type": "stream",
     "text": [
      "BEFORE * 10 : Format : None | Shape : (9600, 96) | Mode : RGBA\n",
      "AFTER  * 10 : Format : None | Shape : (96000, 960) | Mode : RGBA\n"
     ]
    }
   ],
   "source": [
    "# I. Saving as image\n",
    "\n",
    "\n",
    "PATH_IM_SAVE = os.path.abspath(THIS_FOLDER + FOLDER_IMAGE_SAVE + NAME_IMAGE + '_' + str(multiplicator) + FORMAT_IMAGE)\n",
    "print(f\"Path Image : {(PATH_IM_SAVE)}\")\n",
    "image_concat = concatenate_image_resize(LIST_NAME_IMAGE,1,**{\"mode_im\":\"RGBA\"})\n",
    "\n",
    "print(f\"BEFORE * {multiplicator} : {GetInfoImage(image_concat)}\")\n",
    "image_concat_reshape =  reshapeImage(image_concat,multiplicator)\n",
    "print(f\"AFTER  * {multiplicator} : {GetInfoImage(image_concat_reshape)}\")\n",
    "image_concat_reshape.save(PATH_IM_SAVE)\n",
    "print(\"SAVED\")"
   ]
  },
  {
   "cell_type": "code",
   "execution_count": null,
   "id": "7091725a",
   "metadata": {},
   "outputs": [],
   "source": [
    "# II. Saving by block\n",
    "eport_mode = \\\n",
    "{\n",
    "    \"Excel\" : True,\n",
    "    \"Image\" : True\n",
    "}\n",
    "# bloc = np.linspace(0,NB_SPRITE_TOT,NB_BLOC+1).astype(int)\n",
    "bloc = list(np.unique(list(range(0,NB_SPRITE_TOT,100))+[NB_SPRITE_TOT]))\n",
    "bloc_min = bloc[:-1]\n",
    "bloc_max = bloc[1:]\n",
    "for i, (min_b,max_b) in enumerate(zip(bloc_min,bloc_max),1):\n",
    "    print(f\"[{i}/{len(bloc_min)}] Sprites for {min_b} to {max_b - 1}\")\n",
    "    NAME_EXCEL_BLOC = f\"{NAME_EXCEL}_{min_b}_{max_b - 1}\"\n",
    "    NAME_IMAGE_BLOC = f\"{NAME_IMAGE}_{min_b}_{max_b - 1}\"\n",
    "    PATH_EXCEL   = os.path.abspath(THIS_FOLDER + FOLDER_EXCEL_SAVE      + NAME_EXCEL_BLOC + FORMAT_EXCEL)\n",
    "    PATH_IM_SAVE = os.path.abspath(THIS_FOLDER + FOLDER_IMAGE_SAVE + NAME_IMAGE_BLOC + FORMAT_IMAGE)\n",
    "    print(f\"Path Excel : {(PATH_EXCEL)}\")\n",
    "    \n",
    "    LIST_NAME_IMAGE = [os.path.abspath(THIS_FOLDER + FOLDER_IMAGE + str(i) + FORMAT_IMAGE) for i in range(min_b,max_b)] \n",
    "    \n",
    "    image_concat = concatenate_image(LIST_NAME_IMAGE)\n",
    "    print(f\"Dimension : {image_concat.size}\")\n",
    "    if eport_mode['Image']:\n",
    "        image_concat.save(PATH_IM_SAVE)\n",
    "    if eport_mode['Excel']:\n",
    "        wb_conc = from_image_to_excel(image_concat,NAME_EXCEL_BLOC)\n",
    "        wb_conc.save(PATH_EXCEL)"
   ]
  },
  {
   "cell_type": "markdown",
   "id": "b59de8a9",
   "metadata": {},
   "source": [
    "## E) Combat Pokemon Droite Gauche<a class=\"anchor\" id=\"chapter2E\"></a>\n",
    "* [Sommaire](#TOC)"
   ]
  },
  {
   "cell_type": "code",
   "execution_count": 17,
   "id": "ff4c4198",
   "metadata": {},
   "outputs": [
    {
     "name": "stdout",
     "output_type": "stream",
     "text": [
      "Executing Droite\n"
     ]
    },
    {
     "data": {
      "application/vnd.jupyter.widget-view+json": {
       "model_id": "30c6c3940d984efa9b74d72296de01ff",
       "version_major": 2,
       "version_minor": 0
      },
      "text/plain": [
       "  0%|          | 0/650 [00:00<?, ?it/s]"
      ]
     },
     "metadata": {},
     "output_type": "display_data"
    },
    {
     "name": "stdout",
     "output_type": "stream",
     "text": [
      "Executing Gauche\n"
     ]
    },
    {
     "data": {
      "application/vnd.jupyter.widget-view+json": {
       "model_id": "ced9f9e0898c48b08c762e6a006a3927",
       "version_major": 2,
       "version_minor": 0
      },
      "text/plain": [
       "  0%|          | 0/650 [00:00<?, ?it/s]"
      ]
     },
     "metadata": {},
     "output_type": "display_data"
    }
   ],
   "source": [
    "NB_SPRITE_TOT  = 650\n",
    "reorienting    = [\"11\",\"67\",\"76\",\"210\",\"494\",\"552\",\"574\",\"630\"]\n",
    "reorienting    = [\"11\",\"67\",\"76\",\"210\",\"494\",\"552\",\"574\",\"630\"]\n",
    "FOLDER_IMAGE_ORIGIN = \"/Image/black_white/\"\n",
    "FOLDER_IMAGE_SAVE   = \"/Image/Pokedex/\"\n",
    "\n",
    "for position in [\"Droite\",\"Gauche\"]:\n",
    "    print(f\"Executing {position}\")\n",
    "    for pokeIndex in tqdm(range(NB_SPRITE_TOT)):\n",
    "        pokeIndex = str(pokeIndex)\n",
    "        im = Image.open(THIS_FOLDER + FOLDER_IMAGE_ORIGIN + pokeIndex + \".png\")\n",
    "        if (position == \"Gauche\" and pokeIndex in reorienting) or (position == \"Droite\" and pokeIndex not in reorienting):\n",
    "            im = im.transpose(PIL.Image.FLIP_LEFT_RIGHT)\n",
    "        im.save(THIS_FOLDER + FOLDER_IMAGE_SAVE + f\"{position}/{pokeIndex}\" + \".png\")"
   ]
  },
  {
   "cell_type": "markdown",
   "id": "7cb5245c",
   "metadata": {},
   "source": [
    "# IV) XXX <a class=\"anchor\" id=\"chapter4\"></a>\n"
   ]
  },
  {
   "cell_type": "code",
   "execution_count": null,
   "id": "ae4cdbc8",
   "metadata": {},
   "outputs": [],
   "source": []
  },
  {
   "cell_type": "markdown",
   "id": "ea50a190",
   "metadata": {},
   "source": [
    "# END <a class=\"anchor\" id=\"END\"></a>\n",
    "* [Sommaire](#TOC)"
   ]
  }
 ],
 "metadata": {
  "kernelspec": {
   "display_name": "Python 3 (ipykernel)",
   "language": "python",
   "name": "python3"
  },
  "language_info": {
   "codemirror_mode": {
    "name": "ipython",
    "version": 3
   },
   "file_extension": ".py",
   "mimetype": "text/x-python",
   "name": "python",
   "nbconvert_exporter": "python",
   "pygments_lexer": "ipython3",
   "version": "3.9.12"
  }
 },
 "nbformat": 4,
 "nbformat_minor": 5
}
