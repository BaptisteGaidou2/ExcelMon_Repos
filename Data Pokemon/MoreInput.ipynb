{
 "cells": [
  {
   "cell_type": "code",
   "execution_count": 6,
   "id": "1d43dd82",
   "metadata": {},
   "outputs": [],
   "source": [
    "import pandas as pd\n",
    "from IPython.display import display\n",
    "pd.set_option('display.max_columns', None)"
   ]
  },
  {
   "cell_type": "code",
   "execution_count": 26,
   "id": "9f0d0ee3",
   "metadata": {},
   "outputs": [
    {
     "data": {
      "text/plain": [
       "1000000    335\n",
       "1059860    202\n",
       "1250000    172\n",
       "800000      56\n",
       "600000      22\n",
       "1640000     14\n",
       "Name: experience_growth, dtype: int64"
      ]
     },
     "metadata": {},
     "output_type": "display_data"
    }
   ],
   "source": [
    "d1_path = \"KaggleInput.csv\"\n",
    "data_1 = pd.read_csv(d1_path)\n",
    "cols_to_keep=[\"pokedex_number\",\"name\",\"capture_rate\",\"experience_growth\"]\n",
    "d1 = data_1[cols_to_keep]\n",
    "display(d1[\"experience_growth\"].value_counts())"
   ]
  },
  {
   "cell_type": "code",
   "execution_count": 29,
   "id": "88065209",
   "metadata": {
    "scrolled": true
   },
   "outputs": [],
   "source": [
    "d2_path = \"KaggleInput2.csv\"\n",
    "data_2 = pd.read_csv(d2_path)\n",
    "cols_to_keep=[\"pokedex_number\",\"name\",\"catch_rate\",\"base_experience\"]\n",
    "d2 = data_2[cols_to_keep]\n",
    "d2.head()\n",
    "d2.to_csv(\"KaggleOutput2.csv\")"
   ]
  }
 ],
 "metadata": {
  "kernelspec": {
   "display_name": "Python 3 (ipykernel)",
   "language": "python",
   "name": "python3"
  },
  "language_info": {
   "codemirror_mode": {
    "name": "ipython",
    "version": 3
   },
   "file_extension": ".py",
   "mimetype": "text/x-python",
   "name": "python",
   "nbconvert_exporter": "python",
   "pygments_lexer": "ipython3",
   "version": "3.9.12"
  }
 },
 "nbformat": 4,
 "nbformat_minor": 5
}
