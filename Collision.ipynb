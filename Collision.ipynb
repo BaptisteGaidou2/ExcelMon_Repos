{
 "cells": [
  {
   "cell_type": "markdown",
   "id": "511a0b0e",
   "metadata": {},
   "source": [
    "# Notebook : Image Transformations"
   ]
  },
  {
   "cell_type": "markdown",
   "id": "b00954d1",
   "metadata": {},
   "source": [
    "# Sommaire <a class=\"anchor\" id=\"TOC\"></a>\n",
    "* [I)   Importations](#chapter1)\n",
    "* [II)  Opération](#chapter2)\n",
    " \n",
    "* [Fin](#END)"
   ]
  },
  {
   "cell_type": "markdown",
   "id": "ee4fc9f2",
   "metadata": {},
   "source": [
    "# I) Importations<a class=\"anchor\" id=\"chapter1\"></a>\n",
    "* [Sommaire](#TOC)\n",
    "## 1) Librairies"
   ]
  },
  {
   "cell_type": "code",
   "execution_count": 1,
   "id": "c9901ea2",
   "metadata": {},
   "outputs": [
    {
     "name": "stdout",
     "output_type": "stream",
     "text": [
      "pandas---------- : 1.4.2\n",
      "numpy----------- : 1.21.5\n",
      "matplotlib------ : 3.5.1\n",
      "PIL------------- : 9.0.1\n",
      "scipy----------- : 1.9.2\n",
      "openpyxl-------- : 3.0.9\n"
     ]
    }
   ],
   "source": [
    "# A) Importations Librairies\n",
    "## a) PATH\n",
    "import sys\n",
    "import os\n",
    "## b) IMAGE\n",
    "import pandas as pd\n",
    "import scipy  as sc#Deprecated\n",
    "import imageio\n",
    "import numpy  as np  # USED\n",
    "import PIL    as PIL # USED\n",
    "import matplotlib       as mpl\n",
    "import matplotlib.image as mpimg\n",
    "## c) EXCEL\n",
    "import openpyxl as openpyxl\n",
    "## d) OTHERS\n",
    "from tqdm.notebook import tqdm\n",
    "all_libs = {\n",
    "    \"pandas\"     : pd,\n",
    "    \"numpy\"      : np,\n",
    "    \"matplotlib\" : mpl,\n",
    "    \"PIL\"        : PIL,\n",
    "    \"scipy\"      : sc,\n",
    "    \"openpyxl\"   : openpyxl,\n",
    "}\n",
    "for nom,lib in all_libs.items():\n",
    "    print(f\"{nom:-<16} : {lib.__version__}\")\n",
    "    \n",
    "# B) Importations Fonction\n",
    "from PIL import Image\n",
    "from scipy import misc\n",
    "from openpyxl import Workbook, load_workbook\n",
    "from openpyxl.utils import get_column_letter\n",
    "from openpyxl.styles import PatternFill\n",
    "from openpyxl.styles.colors import Color"
   ]
  },
  {
   "cell_type": "markdown",
   "id": "c6590d6c",
   "metadata": {},
   "source": [
    "## 2) Paramètres\n",
    "* [Sommaire](#TOC)\n",
    "### A) PATH "
   ]
  },
  {
   "cell_type": "markdown",
   "id": "2bead294",
   "metadata": {},
   "source": [
    "### B) IMAGE"
   ]
  },
  {
   "cell_type": "code",
   "execution_count": 41,
   "id": "529632cd",
   "metadata": {},
   "outputs": [],
   "source": [
    "class Pixel:        \n",
    "    def __init__(self,rgba,a_init=255):\n",
    "        rgba = [int(val) for val in rgba]\n",
    "        self.r = rgba[0]\n",
    "        self.g = rgba[1]\n",
    "        self.b = rgba[2]\n",
    "        self.a = rgba[3] if len(rgba)== 4 else a_init\n",
    "        \n",
    "        (r,g,b,a) = self.r,self.g,self.b,self.a\n",
    "        \n",
    "        self.tab = (r,g,b,a)\n",
    "        self.dic = {\"r\":r,\"g\":g,\"b\":b,\"a\":a}\n",
    "        \n",
    "    \n",
    "    def aRGB2hex(self):\n",
    "        return f\"{self.a:02x}{self.r:02x}{self.g:02x}{self.b:02x}\"\n",
    "    def RGB2hex(self):\n",
    "        return f\"{self.r:02x}{self.g:02x}{self.b:02x}\"\n",
    "    \n",
    "    def rgb_equal(self,OtherPixel):\n",
    "        return self.RGB2hex()  == OtherPixel.RGB2hex()\n",
    "    def rgba_equal(self,OtherPixel):\n",
    "        return self.aRGB2hex() == OtherPixel.aRGB2hex()\n",
    "    def DicStr(self,rgba_mode=True):\n",
    "        if rgba_mode:\n",
    "            return self.dic\n",
    "        else:\n",
    "            return {i:j for i,j in self.dic.items() if i!='a'}\n",
    "    def __str__(self):\n",
    "        return self.aRGB2hex()\n",
    "    \n",
    "def ToPixel(r=0,g=0,b=0,a=0):\n",
    "    return Pixel([r,g,b,a],a)\n",
    "\n",
    "def GetInfoImage(image):\n",
    "    return f\"Format : {image.format} | Shape : {image.size} | Mode : {image.mode}\"# Hauteur x Largeur x Pixel\n",
    "\n",
    "def check_existing_color(im_np,pixel,verbose = True):\n",
    "    list_rgba_color = []\n",
    "    list_rgb_color  = []\n",
    "    for hauteur in range(im_np.shape[0]):     # hauteur => row => y\n",
    "        for largeur in range(im_np.shape[1]): # largeur => col => x\n",
    "            if im_np.shape[2] == 4:\n",
    "                r,g,b,a = tuple([im_np[hauteur,largeur,i] for i in range(4)]) \n",
    "            else:\n",
    "                r,g,b = tuple([im_np[hauteur,largeur] for i in range(3)]) \n",
    "                a = 255\n",
    "            pix = ToPixel(r,g,b,a)\n",
    "            list_rgba_color.append(pix.aRGB2hex)  \n",
    "            list_rgb_color.append(pix.RGB2hex)\n",
    "\n",
    "    \n",
    "    res_rgba = pixel.aRGB2hex() not in list_rgba_color\n",
    "    res_rgb = pixel.RGB2hex() not in list_rgb_color\n",
    "    if verbose:\n",
    "        print(f\"{pixel.DicStr(True)} not present : {res_rgba}\")\n",
    "        print(f\"{pixel.DicStr(False)} not present : {res_rgb}\")\n",
    "    return (res_rgba,res_rgb)\n",
    "\n",
    "def Collision2Excel(im_np):\n",
    "    LEN_CASE = 16\n",
    "    MID_CASE = int(LEN_CASE/2)\n",
    "\n",
    "    wb = Workbook()\n",
    "    ws = wb.active\n",
    "\n",
    "    for h_case,h_pix in enumerate(tqdm(np.arange(MID_CASE,im_np.shape[0],LEN_CASE)),1):\n",
    "        for l_case,l_pix in enumerate(np.arange(MID_CASE,im_np.shape[1],LEN_CASE),1):\n",
    "            pixel_case = Pixel(im_np[h_pix,l_pix,:],a_init=255)\n",
    "            for i, pix_info in pixel_df.iterrows():\n",
    "                if pixel_case.rgb_equal(pix_info['Pixel']):\n",
    "                    ws.cell(row = h_case, column = l_case).value = pix_info['Case']\n",
    "                    print(f\"x\",end=\"\")\n",
    "                else: \n",
    "                    print(\" \",end=\"\")\n",
    "        print(\"\\n\",end=\"\")\n",
    "                \n",
    "    return wb"
   ]
  },
  {
   "cell_type": "code",
   "execution_count": 42,
   "id": "1ee769d5",
   "metadata": {},
   "outputs": [],
   "source": [
    "typ_pix = \\\n",
    "{\n",
    "    \"mur\" : ToPixel(r=255),\n",
    "    \"eau\" : ToPixel(b=255),\n",
    "}\n",
    "typ_case = \\\n",
    "{\n",
    "    \"mur\" : \".\",\n",
    "    \"eau\" : \"~\",\n",
    "}\n",
    "\n",
    "cols = \\\n",
    "{\n",
    "    \"Type\":[],\n",
    "    \"Case\":[],\n",
    "    \"Pixel\":[],\n",
    "    \"Pixel_rgb\":[],\n",
    "    \"Pixel_rgba\":[]\n",
    "}\n",
    "\n",
    "for typ in set(typ_pix.keys()) | set(typ_case.keys()):\n",
    "    cols[\"Type\"].append(typ)\n",
    "    cols[\"Case\"].append(typ_case.get(typ))\n",
    "    cols[\"Pixel\"].append(typ_pix.get(typ))\n",
    "    cols[\"Pixel_rgb\"].append(typ_pix.get(typ).RGB2hex())\n",
    "    cols[\"Pixel_rgba\"].append(typ_pix.get(typ).aRGB2hex())\n",
    "\n",
    "pixel_df = pd.DataFrame(cols)"
   ]
  },
  {
   "cell_type": "markdown",
   "id": "712f9f4f",
   "metadata": {},
   "source": [
    "## II. Opération <a class=\"anchor\" id=\"chapter2\"></a>\n",
    "* [Sommaire](#TOC)"
   ]
  },
  {
   "cell_type": "code",
   "execution_count": 43,
   "id": "f3221c9e",
   "metadata": {},
   "outputs": [
    {
     "name": "stdout",
     "output_type": "stream",
     "text": [
      "\n",
      "****************************************************************************************************\n",
      "C:\\Users\\bapti\\OneDrive\\Bureau\\Game\\ExcelMon/Image/Map/Collision/Villes/bourg-palette.png\n",
      "C:\\Users\\bapti\\OneDrive\\Bureau\\Game\\ExcelMon/ResultsTransformation/Map/Villes/bourg-palette.xlsx\n",
      "IMAGE Format : PNG | Shape : (384, 320) | Mode : RGBA\n"
     ]
    },
    {
     "data": {
      "image/png": "[encoded data removed]",
      "text/plain": [
       "<PIL.PngImagePlugin.PngImageFile image mode=RGBA size=384x320 at 0x2A15CEE95B0>"
      ]
     },
     "metadata": {},
     "output_type": "display_data"
    },
    {
     "name": "stdout",
     "output_type": "stream",
     "text": [
      "Image Transparence (Values[  0 255]) : \n"
     ]
    },
    {
     "data": {
      "image/png": "[encoded data removed]",
      "text/plain": [
       "<PIL.Image.Image image mode=L size=384x320 at 0x2A15CEE9EE0>"
      ]
     },
     "metadata": {},
     "output_type": "display_data"
    },
    {
     "name": "stdout",
     "output_type": "stream",
     "text": [
      "Précense :\n",
      "mur | RGBA = True | RGB = True\n",
      "eau | RGBA = True | RGB = True\n"
     ]
    },
    {
     "data": {
      "application/vnd.jupyter.widget-view+json": {
       "model_id": "5e46a8ec73aa4904b8fab59374430970",
       "version_major": 2,
       "version_minor": 0
      },
      "text/plain": [
       "  0%|          | 0/20 [00:00<?, ?it/s]"
      ]
     },
     "metadata": {},
     "output_type": "display_data"
    },
    {
     "name": "stdout",
     "output_type": "stream",
     "text": [
      "x x x x x x x x x x x x     x x x x x x x x x x \n",
      "x x x x x x x x x x x x     x x x x x x x x x x \n",
      "x x                                         x x \n",
      "x x       x x x x x         x x x x x       x x \n",
      "x x       x x x x x         x x x x x       x x \n",
      "x x       x x x x x         x x x x x       x x \n",
      "x x     x x x x x x       x x x x x x       x x \n",
      "x x     x x x x x x       x x x x x x       x x \n",
      "x x                                         x x \n",
      "x x                       x x x x x x x     x x \n",
      "x x                       x x x x x x x     x x \n",
      "x x       x x x x x       x x x x x x x     x x \n",
      "x x                       x x x x x x x     x x \n",
      "x x                       x x x x x x x     x x \n",
      "x x       x                                 x x \n",
      "x x                                         x x \n",
      "x x                       x x x x x x       x x \n",
      "x x            x x x x                      x x \n",
      "x x            x x x x                      x x \n",
      "x x x x x x    x x x x              x x x x x x \n"
     ]
    }
   ],
   "source": [
    "THIS_FOLDER = os.path.abspath('.')\n",
    "FOLDER_EXCEL = \"/ResultsTransformation/Map/\"\n",
    "FORMAT_EXCEL = \".xlsx\"\n",
    "FOLDER_IMAGE_PATH = \\\n",
    "{\n",
    "    \"/Image/Map/Collision/Villes/\" : \n",
    "    [\n",
    "        \"bourg-palette\"\n",
    "    ],\n",
    "}\n",
    "FORMAT_IMAGE = \".png\"\n",
    "\n",
    "for FOLDER_IMAGE,NAME_IMAGE_LIST in FOLDER_IMAGE_PATH.items():\n",
    "    for NAME_IMAGE in NAME_IMAGE_LIST:\n",
    "        print(\"\\n\" + \"\".join([\"*\"]*100))\n",
    "        PATH_IMAGE = THIS_FOLDER + FOLDER_IMAGE + NAME_IMAGE + FORMAT_IMAGE\n",
    "        TYPE_IMAGE = os.path.basename(os.path.dirname(PATH_IMAGE)) +\"/\"\n",
    "        PATH_EXCEL = THIS_FOLDER + FOLDER_EXCEL + TYPE_IMAGE + NAME_IMAGE + FORMAT_EXCEL\n",
    "        if not os.path.exists(os.path.dirname(PATH_EXCEL)):\n",
    "            os.makedirs(os.path.dirname(PATH_EXCEL))\n",
    "        print(PATH_IMAGE)\n",
    "        print(PATH_EXCEL)\n",
    "        NAME_EXCEL = NAME_IMAGE\n",
    "        \n",
    "        im    = Image.open(PATH_IMAGE)\n",
    "        im_np = np.asarray(im, dtype=int)\n",
    "\n",
    "        print(f\"IMAGE {GetInfoImage(im)}\")# Hauteur x Largeur x Pixel\n",
    "        display(im)\n",
    "        if im.mode == \"RGBA\":\n",
    "            (r, g, b, a) = im.split()\n",
    "            print(f\"Image Transparence (Values{np.unique(np.asarray(a))}) : \")\n",
    "            display(a)\n",
    "        print(\"Précense :\")\n",
    "        for i,pix_info in pixel_df.iterrows():\n",
    "            res = check_existing_color(im_np,pix_info[\"Pixel\"],False)\n",
    "            print(f\"{pix_info['Type']} | RGBA = {res[0]} | RGB = {res[1]}\")\n",
    "            \n",
    "        wb = Collision2Excel(im_np)\n",
    "        wb.active.title = NAME_EXCEL\n",
    "        wb.save(PATH_EXCEL)"
   ]
  },
  {
   "cell_type": "markdown",
   "id": "ea50a190",
   "metadata": {},
   "source": [
    "# END <a class=\"anchor\" id=\"END\"></a>\n",
    "* [Sommaire](#TOC)"
   ]
  }
 ],
 "metadata": {
  "kernelspec": {
   "display_name": "Python 3 (ipykernel)",
   "language": "python",
   "name": "python3"
  },
  "language_info": {
   "codemirror_mode": {
    "name": "ipython",
    "version": 3
   },
   "file_extension": ".py",
   "mimetype": "text/x-python",
   "name": "python",
   "nbconvert_exporter": "python",
   "pygments_lexer": "ipython3",
   "version": "3.9.12"
  }
 },
 "nbformat": 4,
 "nbformat_minor": 5
}
