{
 "cells": [
  {
   "cell_type": "markdown",
   "id": "511a0b0e",
   "metadata": {},
   "source": [
    "# Notebook : Image Transformations"
   ]
  },
  {
   "cell_type": "markdown",
   "id": "b00954d1",
   "metadata": {},
   "source": [
    "# Sommaire <a class=\"anchor\" id=\"TOC\"></a>\n",
    "* [I)   Importations](#chapter1)\n",
    "* [II)  Opération](#chapter2)\n",
    " \n",
    "* [Fin](#END)"
   ]
  },
  {
   "cell_type": "markdown",
   "id": "ee4fc9f2",
   "metadata": {},
   "source": [
    "# I) Importations<a class=\"anchor\" id=\"chapter1\"></a>\n",
    "* [Sommaire](#TOC)\n",
    "## 1) Librairies"
   ]
  },
  {
   "cell_type": "code",
   "execution_count": 63,
   "id": "c9901ea2",
   "metadata": {},
   "outputs": [
    {
     "name": "stdout",
     "output_type": "stream",
     "text": [
      "pandas---------- : 1.4.2\n",
      "numpy----------- : 1.21.5\n",
      "matplotlib------ : 3.5.1\n",
      "PIL------------- : 9.0.1\n",
      "scipy----------- : 1.9.2\n",
      "openpyxl-------- : 3.0.9\n"
     ]
    }
   ],
   "source": [
    "# A) Importations Librairies\n",
    "## a) PATH\n",
    "import sys\n",
    "import os\n",
    "## b) IMAGE\n",
    "import pandas as pd\n",
    "import scipy  as sc#Deprecated\n",
    "import imageio\n",
    "import numpy  as np  # USED\n",
    "import PIL    as PIL # USED\n",
    "import matplotlib       as mpl\n",
    "import matplotlib.image as mpimg\n",
    "## c) EXCEL\n",
    "import openpyxl as openpyxl\n",
    "## d) OTHERS\n",
    "from tqdm.notebook import tqdm\n",
    "all_libs = {\n",
    "    \"pandas\"     : pd,\n",
    "    \"numpy\"      : np,\n",
    "    \"matplotlib\" : mpl,\n",
    "    \"PIL\"        : PIL,\n",
    "    \"scipy\"      : sc,\n",
    "    \"openpyxl\"   : openpyxl,\n",
    "}\n",
    "for nom,lib in all_libs.items():\n",
    "    print(f\"{nom:-<16} : {lib.__version__}\")\n",
    "    \n",
    "# B) Importations Fonction\n",
    "from PIL import Image\n",
    "from scipy import misc\n",
    "from openpyxl import Workbook, load_workbook\n",
    "from openpyxl.utils import get_column_letter\n",
    "from openpyxl.styles import PatternFill\n",
    "from openpyxl.styles.colors import Color"
   ]
  },
  {
   "cell_type": "markdown",
   "id": "c6590d6c",
   "metadata": {},
   "source": [
    "## 2) Paramètres\n",
    "* [Sommaire](#TOC)\n",
    "### A) PATH "
   ]
  },
  {
   "cell_type": "markdown",
   "id": "2bead294",
   "metadata": {},
   "source": [
    "### B) IMAGE"
   ]
  },
  {
   "cell_type": "code",
   "execution_count": 64,
   "id": "529632cd",
   "metadata": {},
   "outputs": [],
   "source": [
    "class Pixel:        \n",
    "    def __init__(self,rgba,a_init=255):\n",
    "        rgba = [int(val) for val in rgba]\n",
    "        self.r = rgba[0]\n",
    "        self.g = rgba[1]\n",
    "        self.b = rgba[2]\n",
    "        self.a = rgba[3] if len(rgba)== 4 else a_init\n",
    "        \n",
    "        (r,g,b,a) = self.r,self.g,self.b,self.a\n",
    "        \n",
    "        self.tab = (r,g,b,a)\n",
    "        self.dic = {\"r\":r,\"g\":g,\"b\":b,\"a\":a}\n",
    "        \n",
    "    \n",
    "    def aRGB2hex(self):\n",
    "        return f\"{self.a:02x}{self.r:02x}{self.g:02x}{self.b:02x}\"\n",
    "    def RGB2hex(self):\n",
    "        return f\"{self.r:02x}{self.g:02x}{self.b:02x}\"\n",
    "    \n",
    "    def rgb_equal(self,OtherPixel):\n",
    "        return self.RGB2hex()  == OtherPixel.RGB2hex()\n",
    "    def rgba_equal(self,OtherPixel):\n",
    "        return self.aRGB2hex() == OtherPixel.aRGB2hex()\n",
    "    def DicStr(self,rgba_mode=True):\n",
    "        if rgba_mode:\n",
    "            return self.dic\n",
    "        else:\n",
    "            return {i:j for i,j in self.dic.items() if i!='a'}\n",
    "    def __str__(self):\n",
    "        return self.aRGB2hex()\n",
    "    \n",
    "def ToPixel(r=0,g=0,b=0,a=0):\n",
    "    return Pixel([r,g,b,a],a)\n",
    "\n",
    "def GetInfoImage(image):\n",
    "    return f\"Format : {image.format} | Shape : {image.size} | Mode : {image.mode}\"# Hauteur x Largeur x Pixel\n",
    "\n",
    "def get_existing_color(im_np):\n",
    "    list_rgba_color = []\n",
    "    list_rgb_color  = []\n",
    "    for hauteur in range(im_np.shape[0]):     # hauteur => row => y\n",
    "        for largeur in range(im_np.shape[1]): # largeur => col => x\n",
    "            if im_np.shape[2] == 4:\n",
    "                r,g,b,a = tuple([im_np[hauteur,largeur,i] for i in range(4)]) \n",
    "            else:\n",
    "                r,g,b = tuple([im_np[hauteur,largeur] for i in range(3)]) \n",
    "                a = 255\n",
    "            pix = ToPixel(r,g,b,a)\n",
    "            list_rgba_color.append(pix.aRGB2hex())  \n",
    "            list_rgb_color.append(pix.RGB2hex())\n",
    "    return set(list_rgba_color),set(list_rgb_color)\n",
    "def check_existing_color(im_np,pixel_df):\n",
    "    list_rgba_color,list_rgb_color  = get_existing_color(im_np)\n",
    "    for i,pix_info in pixel_df.iterrows():\n",
    "        res = (pix_info[\"Pixel_rgba\"] in list_rgba_color,pix_info[\"Pixel_rgb\"] in list_rgb_color)\n",
    "        print(f\"{pix_info['Type']:<15} | RGBA = {res[0]} | RGB = {res[1]}\")\n",
    "\n",
    "def Collision2Excel(im_np):\n",
    "    LEN_CASE = 16\n",
    "    MID_CASE = int(LEN_CASE/2)\n",
    "\n",
    "    wb = Workbook()\n",
    "    ws = wb.active\n",
    "\n",
    "    for h_case,h_pix in enumerate(tqdm(np.arange(MID_CASE,im_np.shape[0],LEN_CASE)),1):\n",
    "        for l_case,l_pix in enumerate(np.arange(MID_CASE,im_np.shape[1],LEN_CASE),1):\n",
    "            pixel_case = Pixel(im_np[h_pix,l_pix,:],a_init=255)\n",
    "            value_case_pixel = \" \"\n",
    "            for i, pix_info in pixel_df.iterrows():\n",
    "                if pixel_case.rgb_equal(pix_info['Pixel']):\n",
    "                    ws.cell(row = h_case, column = l_case).value = pix_info['Case']\n",
    "                    value_case_pixel=pix_info['Case']\n",
    "                    break\n",
    "            print(f\"{value_case_pixel}\",end=\"\")\n",
    "        print(\"\\n\",end=\"\")\n",
    "    return wb"
   ]
  },
  {
   "cell_type": "code",
   "execution_count": 65,
   "id": "1ee769d5",
   "metadata": {},
   "outputs": [],
   "source": [
    "typ_pix = \\\n",
    "{\n",
    "    \"mur\"   : ToPixel(r=255),\n",
    "    \"eau\"   : ToPixel(b=255),\n",
    "    \"herbe\" : ToPixel(g=255),\n",
    "    \"marcheB\" : ToPixel(r=80 ,g=20,b=20),\n",
    "    \"marcheH\" : ToPixel(r=140,g=80,b=70),\n",
    "    \"Centre Pokemon\" : ToPixel(r=232,g=144,b=112),\n",
    "    \"Boutique\"       : ToPixel(r=48 ,g=96 ,b=160),\n",
    "    \"Arène\"          : ToPixel(r=168,g=144,b=72),\n",
    "    \"TP\"             : ToPixel(r=255,g=255,b=0),\n",
    "}\n",
    "typ_case = \\\n",
    "{\n",
    "    \"mur\"   : \".\",\n",
    "    \"eau\"   : \"~\",\n",
    "    \"herbe\" : \"*\",\n",
    "    \"marcheB\" : \"b\",\n",
    "    \"marcheH\" : \"h\",\n",
    "    \"Centre Pokemon\" : \"c\",\n",
    "    \"Boutique\"       : \"s\",\n",
    "    \"Arène\"          : \"a\",\n",
    "    \"TP\"             : \"#\",\n",
    "}\n",
    "\n",
    "cols = \\\n",
    "{\n",
    "    \"Type\":[],\n",
    "    \"Case\":[],\n",
    "    \"Pixel\":[],\n",
    "    \"Pixel_rgb\":[],\n",
    "    \"Pixel_rgba\":[]\n",
    "}\n",
    "\n",
    "for typ in set(typ_pix.keys()) | set(typ_case.keys()):\n",
    "    cols[\"Type\"].append(typ)\n",
    "    cols[\"Case\"].append(typ_case.get(typ))\n",
    "    cols[\"Pixel\"].append(typ_pix.get(typ))\n",
    "    cols[\"Pixel_rgb\"].append(typ_pix.get(typ).RGB2hex())\n",
    "    cols[\"Pixel_rgba\"].append(typ_pix.get(typ).aRGB2hex())\n",
    "\n",
    "pixel_df = pd.DataFrame(cols)"
   ]
  },
  {
   "cell_type": "markdown",
   "id": "712f9f4f",
   "metadata": {},
   "source": [
    "## II. Opération <a class=\"anchor\" id=\"chapter2\"></a>\n",
    "* [Sommaire](#TOC)"
   ]
  },
  {
   "cell_type": "code",
   "execution_count": 66,
   "id": "76e67333",
   "metadata": {},
   "outputs": [
    {
     "data": {
      "text/plain": [
       "['C:\\\\Users\\\\bapti\\\\OneDrive\\\\Bureau\\\\Game\\\\ExcelMon\\\\Image\\\\Map\\\\Collision\\\\Foret\\\\foret_de_jade.png',\n",
       " 'C:\\\\Users\\\\bapti\\\\OneDrive\\\\Bureau\\\\Game\\\\ExcelMon\\\\Image\\\\Map\\\\Collision\\\\Routes\\\\route01.png',\n",
       " 'C:\\\\Users\\\\bapti\\\\OneDrive\\\\Bureau\\\\Game\\\\ExcelMon\\\\Image\\\\Map\\\\Collision\\\\Routes\\\\route02.png',\n",
       " 'C:\\\\Users\\\\bapti\\\\OneDrive\\\\Bureau\\\\Game\\\\ExcelMon\\\\Image\\\\Map\\\\Collision\\\\Routes\\\\route03.png',\n",
       " 'C:\\\\Users\\\\bapti\\\\OneDrive\\\\Bureau\\\\Game\\\\ExcelMon\\\\Image\\\\Map\\\\Collision\\\\Villes\\\\argenta.png',\n",
       " 'C:\\\\Users\\\\bapti\\\\OneDrive\\\\Bureau\\\\Game\\\\ExcelMon\\\\Image\\\\Map\\\\Collision\\\\Villes\\\\bourg-palette.png',\n",
       " 'C:\\\\Users\\\\bapti\\\\OneDrive\\\\Bureau\\\\Game\\\\ExcelMon\\\\Image\\\\Map\\\\Collision\\\\Villes\\\\jadielle.png']"
      ]
     },
     "execution_count": 66,
     "metadata": {},
     "output_type": "execute_result"
    }
   ],
   "source": [
    "Collison_PNG=[]\n",
    "REP =  os.path.abspath(THIS_FOLDER+\"/Image/Map/Collision\")\n",
    "for (repertoire, sousRepertoires, fichiers) in walk(REP):\n",
    "    png_files=[os.path.join(repertoire, f) for f in fichiers if f[-4:].lower() == \".png\"]\n",
    "    Collison_PNG.extend(png_files)\n",
    "Collison_PNG"
   ]
  },
  {
   "cell_type": "code",
   "execution_count": 67,
   "id": "f3221c9e",
   "metadata": {},
   "outputs": [
    {
     "name": "stdout",
     "output_type": "stream",
     "text": [
      "\n",
      "****************************************************************************************************\n",
      "\n",
      "****************************************************************************************************\n",
      "\n",
      "****************************************************************************************************\n",
      "C:\\Users\\bapti\\OneDrive\\Bureau\\Game\\ExcelMon/Image/Map/Collision/Villes/bourg-palette.png\n",
      "C:\\Users\\bapti\\OneDrive\\Bureau\\Game\\ExcelMon/ResultsTransformation/Map/Villes/bourg-palette.xlsx\n",
      "IMAGE Format : PNG | Shape : (384, 320) | Mode : RGBA\n"
     ]
    },
    {
     "data": {
      "image/png": "[encoded data removed]",
      "text/plain": [
       "<PIL.PngImagePlugin.PngImageFile image mode=RGBA size=384x320 at 0x2A0AD6426A0>"
      ]
     },
     "metadata": {},
     "output_type": "display_data"
    },
    {
     "name": "stdout",
     "output_type": "stream",
     "text": [
      "Image Transparence (Values[  0 255]) : \n"
     ]
    },
    {
     "data": {
      "image/png": "[encoded data removed]",
      "text/plain": [
       "<PIL.Image.Image image mode=L size=384x320 at 0x2A0CFF04F70>"
      ]
     },
     "metadata": {},
     "output_type": "display_data"
    },
    {
     "name": "stdout",
     "output_type": "stream",
     "text": [
      "Précense :\n",
      "mur             | RGBA = False | RGB = True\n",
      "Centre Pokemon  | RGBA = False | RGB = False\n",
      "herbe           | RGBA = False | RGB = False\n",
      "marcheH         | RGBA = False | RGB = False\n",
      "marcheB         | RGBA = False | RGB = False\n",
      "Arène           | RGBA = False | RGB = False\n",
      "TP              | RGBA = False | RGB = False\n",
      "eau             | RGBA = False | RGB = True\n",
      "Boutique        | RGBA = False | RGB = False\n"
     ]
    },
    {
     "data": {
      "application/vnd.jupyter.widget-view+json": {
       "model_id": "2575136bfaed495a9f96e519f3a0ca13",
       "version_major": 2,
       "version_minor": 0
      },
      "text/plain": [
       "  0%|          | 0/20 [00:00<?, ?it/s]"
      ]
     },
     "metadata": {},
     "output_type": "display_data"
    },
    {
     "name": "stdout",
     "output_type": "stream",
     "text": [
      "............  ..........\n",
      "............  ..........\n",
      "..                    ..\n",
      "..   .....    .....   ..\n",
      "..   .....    .....   ..\n",
      "..   .....    .....   ..\n",
      "..  ......   ......   ..\n",
      "..  ......   ......   ..\n",
      "..                    ..\n",
      "..           .......  ..\n",
      "..           .......  ..\n",
      "..   .....   .......  ..\n",
      "..           .......  ..\n",
      "..           .......  ..\n",
      "..   .                ..\n",
      "..                    ..\n",
      "..           ......   ..\n",
      "..     ~~~~           ..\n",
      "..     ~~~~           ..\n",
      "...... ~~~~       ......\n",
      "\n",
      "****************************************************************************************************\n",
      "\n",
      "****************************************************************************************************\n",
      "\n",
      "****************************************************************************************************\n",
      "C:\\Users\\bapti\\OneDrive\\Bureau\\Game\\ExcelMon/Image/Map/Collision/Villes/jadielle.png\n",
      "C:\\Users\\bapti\\OneDrive\\Bureau\\Game\\ExcelMon/ResultsTransformation/Map/Villes/jadielle.xlsx\n",
      "IMAGE Format : PNG | Shape : (768, 640) | Mode : RGBA\n"
     ]
    },
    {
     "data": {
      "image/png": "[encoded data removed]",
      "text/plain": [
       "<PIL.PngImagePlugin.PngImageFile image mode=RGBA size=768x640 at 0x2A0CFD186D0>"
      ]
     },
     "metadata": {},
     "output_type": "display_data"
    },
    {
     "name": "stdout",
     "output_type": "stream",
     "text": [
      "Image Transparence (Values[  0 255]) : \n"
     ]
    },
    {
     "data": {
      "image/png": "[encoded data removed]",
      "text/plain": [
       "<PIL.Image.Image image mode=L size=768x640 at 0x2A0D0CFCC10>"
      ]
     },
     "metadata": {},
     "output_type": "display_data"
    },
    {
     "name": "stdout",
     "output_type": "stream",
     "text": [
      "Précense :\n",
      "mur             | RGBA = False | RGB = True\n",
      "Centre Pokemon  | RGBA = False | RGB = True\n",
      "herbe           | RGBA = False | RGB = False\n",
      "marcheH         | RGBA = False | RGB = False\n",
      "marcheB         | RGBA = False | RGB = True\n",
      "Arène           | RGBA = False | RGB = True\n",
      "TP              | RGBA = False | RGB = False\n",
      "eau             | RGBA = False | RGB = True\n",
      "Boutique        | RGBA = False | RGB = True\n"
     ]
    },
    {
     "data": {
      "application/vnd.jupyter.widget-view+json": {
       "model_id": "68f709d470574ab988315c354563552b",
       "version_major": 2,
       "version_minor": 0
      },
      "text/plain": [
       "  0%|          | 0/40 [00:00<?, ?it/s]"
      ]
     },
     "metadata": {},
     "output_type": "display_data"
    },
    {
     "name": "stdout",
     "output_type": "stream",
     "text": [
      "...................     ........................\n",
      "...................    .........................\n",
      "...................     ........................\n",
      "...................     ........................\n",
      "...................     ....              ......\n",
      "........  ........                        ......\n",
      "........ ..........              ......   ......\n",
      "........ ...........             ......   ......\n",
      "........ ..........     .....    ......   ......\n",
      "........ ...........   ......   .......   ......\n",
      "........ ..........     .....   .  .a.    ......\n",
      "........ ...........   ......             ......\n",
      "........ ..........        ..bbbbbbbbbbbbb......\n",
      "........ ...........                      ......\n",
      "........ ..........                       ......\n",
      "........ ...........    ........................\n",
      "         .......... .  .....      ....    ......\n",
      "                        ....      ....    ......\n",
      "                       .....      ....    ......\n",
      "                                  ..s.    ......\n",
      ".......                                   ......\n",
      ".......                                   ......\n",
      "...........             .....             ......\n",
      "........... ..          .....             ......\n",
      "........... ..          .....             ......\n",
      ".......     ..          .....             ......\n",
      ".......    ~~~~~~       ..c..             ......\n",
      ".......    ~~~~~~                         ......\n",
      ".......    ~~~~~~                         ......\n",
      ".......    ~~~~~~                         ......\n",
      ".......bbbb~~~~~~bbb   bbbbbbbbbbbbbbbbbbb......\n",
      ".......             .                     ......\n",
      ".......                                   ......\n",
      "..............                            ......\n",
      "..............                            ......\n",
      "......................    ......................\n",
      "......................    ......................\n",
      "......................    ......................\n",
      "......................    ......................\n",
      "......................    ......................\n",
      "\n",
      "****************************************************************************************************\n",
      "\n",
      "****************************************************************************************************\n",
      "\n",
      "****************************************************************************************************\n",
      "C:\\Users\\bapti\\OneDrive\\Bureau\\Game\\ExcelMon/Image/Map/Collision/Villes/argenta.png\n",
      "C:\\Users\\bapti\\OneDrive\\Bureau\\Game\\ExcelMon/ResultsTransformation/Map/Villes/argenta.xlsx\n",
      "IMAGE Format : PNG | Shape : (768, 640) | Mode : RGBA\n"
     ]
    },
    {
     "data": {
      "image/png": "[encoded data removed]",
      "text/plain": [
       "<PIL.PngImagePlugin.PngImageFile image mode=RGBA size=768x640 at 0x2A0D0D047F0>"
      ]
     },
     "metadata": {},
     "output_type": "display_data"
    },
    {
     "name": "stdout",
     "output_type": "stream",
     "text": [
      "Image Transparence (Values[255]) : \n"
     ]
    },
    {
     "data": {
      "image/png": "[encoded data removed]",
      "text/plain": [
       "<PIL.Image.Image image mode=L size=768x640 at 0x2A0D0D044C0>"
      ]
     },
     "metadata": {},
     "output_type": "display_data"
    },
    {
     "name": "stdout",
     "output_type": "stream",
     "text": [
      "Précense :\n",
      "mur             | RGBA = False | RGB = True\n",
      "Centre Pokemon  | RGBA = False | RGB = True\n",
      "herbe           | RGBA = False | RGB = False\n",
      "marcheH         | RGBA = False | RGB = False\n",
      "marcheB         | RGBA = False | RGB = True\n",
      "Arène           | RGBA = False | RGB = True\n",
      "TP              | RGBA = False | RGB = True\n",
      "eau             | RGBA = False | RGB = False\n",
      "Boutique        | RGBA = False | RGB = True\n"
     ]
    },
    {
     "data": {
      "application/vnd.jupyter.widget-view+json": {
       "model_id": "2243bcf0416044c2b338b8b5cb52b9c2",
       "version_major": 2,
       "version_minor": 0
      },
      "text/plain": [
       "  0%|          | 0/40 [00:00<?, ?it/s]"
      ]
     },
     "metadata": {},
     "output_type": "display_data"
    },
    {
     "name": "stdout",
     "output_type": "stream",
     "text": [
      "................................................\n",
      "................................................\n",
      "....        .................         ..........\n",
      "....        .................         ..........\n",
      "....        ....................      ..........\n",
      "....        ...........               ..........\n",
      ".......     ...........  .......        ........\n",
      "....bbb  bbbbbbb.#..bbbbbbbbbbbbbbbbb   ........\n",
      "....                                    ........\n",
      "......                          .....   ........\n",
      "......                          .....   ........\n",
      "......                          .....   ........\n",
      "......   .. ....... ..                  ........\n",
      "......   .. ....... ..                  ........\n",
      "......   .............                  ........\n",
      "......   .............    ....          ........\n",
      "......   ...   a    ..    ......        ........\n",
      "......               .    ......        ........\n",
      "......               .    ..s...        ........\n",
      "......               .                 .........\n",
      "......................                          \n",
      "......                                          \n",
      "......       .........    ..........            \n",
      "......       .........    ..........    ........\n",
      "......       .........    ..........    ........\n",
      "......       ....c....    ...........   ........\n",
      "......                    .         .   ........\n",
      "......                    .         .   ........\n",
      "......  .....             .         .   ........\n",
      "......  .....             .         .   ........\n",
      "......  .....             .bbbb bbbb.   ........\n",
      "......                                  ........\n",
      "......                                  ........\n",
      "......                                  ........\n",
      "......                                  ........\n",
      "....................    ........................\n",
      "....................    ........................\n",
      "....................    ........................\n",
      "....................    ........................\n",
      "....................    ........................\n",
      "\n",
      "****************************************************************************************************\n",
      "\n",
      "****************************************************************************************************\n",
      "\n",
      "****************************************************************************************************\n",
      "C:\\Users\\bapti\\OneDrive\\Bureau\\Game\\ExcelMon/Image/Map/Collision/Routes/route01.png\n",
      "C:\\Users\\bapti\\OneDrive\\Bureau\\Game\\ExcelMon/ResultsTransformation/Map/Routes/route01.xlsx\n",
      "IMAGE Format : PNG | Shape : (384, 640) | Mode : RGBA\n"
     ]
    },
    {
     "data": {
      "image/png": "[encoded data removed]",
      "text/plain": [
       "<PIL.PngImagePlugin.PngImageFile image mode=RGBA size=384x640 at 0x2A0D0D2EC40>"
      ]
     },
     "metadata": {},
     "output_type": "display_data"
    },
    {
     "name": "stdout",
     "output_type": "stream",
     "text": [
      "Image Transparence (Values[  0 255]) : \n"
     ]
    },
    {
     "data": {
      "image/png": "[encoded data removed]",
      "text/plain": [
       "<PIL.Image.Image image mode=L size=384x640 at 0x2A0D0D2E430>"
      ]
     },
     "metadata": {},
     "output_type": "display_data"
    },
    {
     "name": "stdout",
     "output_type": "stream",
     "text": [
      "Précense :\n",
      "mur             | RGBA = False | RGB = True\n",
      "Centre Pokemon  | RGBA = False | RGB = False\n",
      "herbe           | RGBA = False | RGB = True\n",
      "marcheH         | RGBA = False | RGB = False\n",
      "marcheB         | RGBA = False | RGB = True\n",
      "Arène           | RGBA = False | RGB = False\n",
      "TP              | RGBA = False | RGB = False\n",
      "eau             | RGBA = False | RGB = False\n",
      "Boutique        | RGBA = False | RGB = False\n"
     ]
    },
    {
     "data": {
      "application/vnd.jupyter.widget-view+json": {
       "model_id": "215311067ba74d9c8b99441db504fc5b",
       "version_major": 2,
       "version_minor": 0
      },
      "text/plain": [
       "  0%|          | 0/40 [00:00<?, ?it/s]"
      ]
     },
     "metadata": {},
     "output_type": "display_data"
    },
    {
     "name": "stdout",
     "output_type": "stream",
     "text": [
      "..........    ..........\n",
      "..........    ..........\n",
      "..                    ..\n",
      "..      ..            ..\n",
      "..      ..            ..\n",
      "..bbbbbb..bbbbbb      ..\n",
      "..      ..************..\n",
      "..      ..************..\n",
      "..      ..************..\n",
      "..      ..************..\n",
      "..bbbbbb..************..\n",
      "..      ..            ..\n",
      "..                    ..\n",
      "..              ******..\n",
      "....      ......******..\n",
      "....bbbbbb......******..\n",
      "....      ......******..\n",
      "..              ******..\n",
      "..                    ..\n",
      "..                    ..\n",
      "..bb bbbb  bbbbbbbbbbb..\n",
      "..                    ..\n",
      "..                    ..\n",
      "..                    ..\n",
      "............******    ..\n",
      "............******    ..\n",
      "............******bbbb..\n",
      "..          ******    ..\n",
      "..          ******    ..\n",
      "..                    ..\n",
      "..                    ..\n",
      "..bbbb   .bbbbbbbbbbbb..\n",
      "..  *******      *****..\n",
      "..  *******      *****..\n",
      "..*******      *****  ..\n",
      "..*******   ** *****  ..\n",
      "............**..........\n",
      "............**..........\n",
      "............**..........\n",
      "............**..........\n",
      "\n",
      "****************************************************************************************************\n",
      "\n",
      "****************************************************************************************************\n",
      "\n",
      "****************************************************************************************************\n",
      "C:\\Users\\bapti\\OneDrive\\Bureau\\Game\\ExcelMon/Image/Map/Collision/Routes/route02.png\n",
      "C:\\Users\\bapti\\OneDrive\\Bureau\\Game\\ExcelMon/ResultsTransformation/Map/Routes/route02.xlsx\n",
      "IMAGE Format : PNG | Shape : (384, 1280) | Mode : RGBA\n"
     ]
    },
    {
     "data": {
      "image/png": "[encoded data removed]",
      "text/plain": [
       "<PIL.PngImagePlugin.PngImageFile image mode=RGBA size=384x1280 at 0x2A0D0D044C0>"
      ]
     },
     "metadata": {},
     "output_type": "display_data"
    },
    {
     "name": "stdout",
     "output_type": "stream",
     "text": [
      "Image Transparence (Values[  0 255]) : \n"
     ]
    },
    {
     "data": {
      "image/png": "[encoded data removed]",
      "text/plain": [
       "<PIL.Image.Image image mode=L size=384x1280 at 0x2A0D0D2EEE0>"
      ]
     },
     "metadata": {},
     "output_type": "display_data"
    },
    {
     "name": "stdout",
     "output_type": "stream",
     "text": [
      "Précense :\n",
      "mur             | RGBA = False | RGB = True\n",
      "Centre Pokemon  | RGBA = False | RGB = False\n",
      "herbe           | RGBA = False | RGB = True\n",
      "marcheH         | RGBA = False | RGB = False\n",
      "marcheB         | RGBA = False | RGB = True\n",
      "Arène           | RGBA = False | RGB = False\n",
      "TP              | RGBA = False | RGB = True\n",
      "eau             | RGBA = False | RGB = False\n",
      "Boutique        | RGBA = False | RGB = False\n"
     ]
    },
    {
     "data": {
      "application/vnd.jupyter.widget-view+json": {
       "model_id": "2f1749b2848e4e29a971bd4d4a5a8f50",
       "version_major": 2,
       "version_minor": 0
      },
      "text/plain": [
       "  0%|          | 0/80 [00:00<?, ?it/s]"
      ]
     },
     "metadata": {},
     "output_type": "display_data"
    },
    {
     "name": "stdout",
     "output_type": "stream",
     "text": [
      "........    ............\n",
      "........    ............\n",
      "..*******   ............\n",
      "..*******   .         ..\n",
      "..*******   .         ..\n",
      "..*******   .         ..\n",
      "..*******   ......... ..\n",
      "..*******   ......... ..\n",
      "..*******   ......... ..\n",
      "..          ......... ..\n",
      "..          ......... ..\n",
      "..          .....#... ..\n",
      "..          . .       ..\n",
      "....    ... .         ..\n",
      ".....##....           ..\n",
      "..............        ..\n",
      "..............        ..\n",
      "..............        ..\n",
      "..............        ..\n",
      "..............        ..\n",
      "...................   ..\n",
      "...................   ..\n",
      "...................   ..\n",
      "................      ..\n",
      "................      ..\n",
      "................      ..\n",
      ".................. .....\n",
      "................      ..\n",
      "................      ..\n",
      "................      ..\n",
      "................      ..\n",
      "................      ..\n",
      "................bbb bb..\n",
      "................      ..\n",
      "................      ..\n",
      "................      ..\n",
      "................      ..\n",
      "................bbb bb..\n",
      "................      ..\n",
      "................      ..\n",
      "................      ..\n",
      ".................    ...\n",
      "..................##....\n",
      "........................\n",
      "........................\n",
      "........................\n",
      "..................##....\n",
      ".................    ...\n",
      "................      ..\n",
      "................      ..\n",
      "................      ..\n",
      ".....##.........bbb bb..\n",
      "....    ........      ..\n",
      "..            ..      ..\n",
      "..            ..      ..\n",
      "..bbbbbbbbb   ..      ..\n",
      "..    ******* ..      ..\n",
      "..    ******* ..bb bbb..\n",
      "..    ******* ..      ..\n",
      "..    ******* ..      ..\n",
      "..    ******* ..      ..\n",
      "..            ..      ..\n",
      "..                    ..\n",
      "..    ..........      ..\n",
      "..    ..........      ..\n",
      "..    ..........      ..\n",
      "..    ..........      ..\n",
      "..            ..      ..\n",
      "..            ..      ..\n",
      "..                    ..\n",
      "..bbbbbbb  bbb..bb bbb..\n",
      "....          ..      ..\n",
      "....          ..      ..\n",
      "....   .      ..      ..\n",
      "....          ..      ..\n",
      "....          ..      ..\n",
      "....          ..      ..\n",
      "......        ..........\n",
      ".......     ............\n",
      ".......     ............\n",
      "\n",
      "****************************************************************************************************\n",
      "\n",
      "****************************************************************************************************\n",
      "\n",
      "****************************************************************************************************\n",
      "C:\\Users\\bapti\\OneDrive\\Bureau\\Game\\ExcelMon/Image/Map/Collision/Routes/route03.png\n",
      "C:\\Users\\bapti\\OneDrive\\Bureau\\Game\\ExcelMon/ResultsTransformation/Map/Routes/route03.xlsx\n",
      "IMAGE Format : PNG | Shape : (1392, 320) | Mode : RGBA\n"
     ]
    },
    {
     "data": {
      "image/png": "[encoded data removed]",
      "text/plain": [
       "<PIL.PngImagePlugin.PngImageFile image mode=RGBA size=1392x320 at 0x2A0D0F5AA00>"
      ]
     },
     "metadata": {},
     "output_type": "display_data"
    },
    {
     "name": "stdout",
     "output_type": "stream",
     "text": [
      "Image Transparence (Values[  0 255]) : \n"
     ]
    },
    {
     "data": {
      "image/png": "[encoded data removed]",
      "text/plain": [
       "<PIL.Image.Image image mode=L size=1392x320 at 0x2A0AD653E20>"
      ]
     },
     "metadata": {},
     "output_type": "display_data"
    },
    {
     "name": "stdout",
     "output_type": "stream",
     "text": [
      "Précense :\n",
      "mur             | RGBA = False | RGB = True\n",
      "Centre Pokemon  | RGBA = False | RGB = False\n",
      "herbe           | RGBA = False | RGB = True\n",
      "marcheH         | RGBA = False | RGB = False\n",
      "marcheB         | RGBA = False | RGB = True\n",
      "Arène           | RGBA = False | RGB = False\n",
      "TP              | RGBA = False | RGB = False\n",
      "eau             | RGBA = False | RGB = False\n",
      "Boutique        | RGBA = False | RGB = False\n"
     ]
    },
    {
     "data": {
      "application/vnd.jupyter.widget-view+json": {
       "model_id": "df1a4b25f864482193dcbd8e06841d32",
       "version_major": 2,
       "version_minor": 0
      },
      "text/plain": [
       "  0%|          | 0/20 [00:00<?, ?it/s]"
      ]
     },
     "metadata": {},
     "output_type": "display_data"
    },
    {
     "name": "stdout",
     "output_type": "stream",
     "text": [
      "....................................................................        ...........\n",
      "....................................................................        ...........\n",
      "....................................................................        ...........\n",
      ".............                      .................................       ............\n",
      "...........                          ...............................     ..............\n",
      "...........                          ......                .........     ..............\n",
      "...........         ...       ..     .....                   .......     ..............\n",
      "...........bbb  bbbb...bbbbbbb..bbb  .....                   .......     ..............\n",
      ".......             ...       ..     .....bbbb  .......bbbbb .......bbb  ..............\n",
      "                    ...       ..                .......      .......     ..............\n",
      "                    ...       ...               .......      .....       ****..........\n",
      "         ...        ...       ...*******        .......               ...******........\n",
      "  ..........bbbb  bb...bbbbbbb...**************........                ********........\n",
      "............        ...       ...**************........                ********........\n",
      "............                 ......************........               *********........\n",
      "..............               ......************..........             *********........\n",
      ".......................................********..........             ******...........\n",
      ".......................................................................................\n",
      ".......................................................................................\n",
      ".......................................................................................\n",
      "\n",
      "****************************************************************************************************\n",
      "\n",
      "****************************************************************************************************\n",
      "\n",
      "****************************************************************************************************\n",
      "C:\\Users\\bapti\\OneDrive\\Bureau\\Game\\ExcelMon/Image/Map/Collision/Foret/foret_de_jade.png\n",
      "C:\\Users\\bapti\\OneDrive\\Bureau\\Game\\ExcelMon/ResultsTransformation/Map/Foret/foret_de_jade.xlsx\n",
      "IMAGE Format : PNG | Shape : (864, 1104) | Mode : RGBA\n"
     ]
    },
    {
     "data": {
      "image/png": "[encoded data removed]",
      "text/plain": [
       "<PIL.PngImagePlugin.PngImageFile image mode=RGBA size=864x1104 at 0x2A0CFD473A0>"
      ]
     },
     "metadata": {},
     "output_type": "display_data"
    },
    {
     "name": "stdout",
     "output_type": "stream",
     "text": [
      "Image Transparence (Values[  0 255]) : \n"
     ]
    },
    {
     "data": {
      "image/png": "[encoded data removed]",
      "text/plain": [
       "<PIL.Image.Image image mode=L size=864x1104 at 0x2A0CFD38FA0>"
      ]
     },
     "metadata": {},
     "output_type": "display_data"
    },
    {
     "name": "stdout",
     "output_type": "stream",
     "text": [
      "Précense :\n",
      "mur             | RGBA = False | RGB = True\n",
      "Centre Pokemon  | RGBA = False | RGB = False\n",
      "herbe           | RGBA = False | RGB = True\n",
      "marcheH         | RGBA = False | RGB = False\n",
      "marcheB         | RGBA = False | RGB = False\n",
      "Arène           | RGBA = False | RGB = False\n",
      "TP              | RGBA = False | RGB = True\n",
      "eau             | RGBA = False | RGB = False\n",
      "Boutique        | RGBA = False | RGB = False\n"
     ]
    },
    {
     "data": {
      "application/vnd.jupyter.widget-view+json": {
       "model_id": "f4415fc99e494e9c95c40597bb883f17",
       "version_major": 2,
       "version_minor": 0
      },
      "text/plain": [
       "  0%|          | 0/69 [00:00<?, ?it/s]"
      ]
     },
     "metadata": {},
     "output_type": "display_data"
    },
    {
     "name": "stdout",
     "output_type": "stream",
     "text": [
      "......................................................\n",
      "......................................................\n",
      "......................................................\n",
      "......................................................\n",
      "......................................................\n",
      "...........             ...                        ...\n",
      "...........             ...                        ...\n",
      "...........             ...                        ...\n",
      "...........             ...     ...............    ...\n",
      "....###....             ...     ...............    ...\n",
      "....   ....             ...     ...............    ...\n",
      "....   ....     ...     ...     ...............    ...\n",
      "....  .....*****...*****...*****...............    ...\n",
      "...*****...*****...*****...*****...............    ...\n",
      "...*****...*****...*****...*****...............    ...\n",
      "...*****...*****...*****...***********             ...\n",
      "...*****...*****...*****...***********             ...\n",
      "...*****...*****...*****...***********             ...\n",
      "...*****...*****...*****...***********       .........\n",
      "...*****...*****...*****...**********        .........\n",
      "...*****...*****...*****...******......      .........\n",
      "...*****...*****...*****...   ***......      .........\n",
      "...*****...*****...     ...      ......      .........\n",
      "...*****...*****...              ......      .........\n",
      "...*****...*****.....            ......            ...\n",
      "...*****...*****.....            ......            ...\n",
      "...*****...*******.....................    .       ...\n",
      "...*****   *******.....................            ...\n",
      "...               .....................            ...\n",
      "...      .        .....................****        ...\n",
      "...                     ...............*****...    ...\n",
      "...                     ...............*****...    ...\n",
      "...                     ...............*****...    ...\n",
      "...                     ...............*****...    ...\n",
      "..................      ...............*****...    ...\n",
      "..................      ...............*****...    ...\n",
      ".......................................*****...    ...\n",
      ".......................................*****...    ...\n",
      ".......................................*****...    ...\n",
      "...***************.....................*****...    ...\n",
      "...***************.....................*****...    ...\n",
      "...***************.....................*****...    ...\n",
      "...***************.....................*****       ...\n",
      "...******************************......****        ...\n",
      "............****************.  **......***         ...\n",
      "............****************   **......***         ...\n",
      "............  ***.........**   **......***   .........\n",
      "............  ***.........**   **......***   .........\n",
      "............  ***.........**   **......***   .........\n",
      "............  ***.........**   **......***   .........\n",
      "............  ***.........**   **......***   .........\n",
      "............  ***.........**   **......***   .........\n",
      "............  ***.........**   **......***   .........\n",
      "............  ***.........**   **......***   .........\n",
      "............  ***.........** . **......***   .........\n",
      "...*********  **************...***********   ******...\n",
      "...*********  **************...***********   ******...\n",
      "...*********   ************  .  *********   *******...\n",
      "...*********    **********       *******    *******...\n",
      "...********                            .    *******...\n",
      "...********                    .           ********...\n",
      "...********                                ********...\n",
      "...........................      .....................\n",
      "............................###.......................\n",
      "......................................................\n",
      "......................................................\n",
      "......................................................\n",
      "......................................................\n",
      "......................................................\n"
     ]
    }
   ],
   "source": [
    "THIS_FOLDER = os.path.abspath('.')\n",
    "FOLDER_EXCEL = \"/ResultsTransformation/Map/\"\n",
    "FORMAT_EXCEL = \".xlsx\"\n",
    "FOLDER_IMAGE_PATH = \\\n",
    "{\n",
    "    \"/Image/Map/Collision/Villes/\" : \n",
    "    [\n",
    "        \"bourg-palette\",\n",
    "        \"jadielle\",\n",
    "        \"argenta\"\n",
    "    ],\n",
    "    \"/Image/Map/Collision/Routes/\" : \n",
    "    [\n",
    "        \"route01\",\n",
    "        \"route02\",\n",
    "        \"route03\"\n",
    "    ],\n",
    "     \"/Image/Map/Collision/Foret/\" : \n",
    "    [\n",
    "        \"foret_de_jade\"\n",
    "    ],\n",
    "}\n",
    "FORMAT_IMAGE = \".png\"\n",
    "\n",
    "for FOLDER_IMAGE,NAME_IMAGE_LIST in FOLDER_IMAGE_PATH.items():\n",
    "    for NAME_IMAGE in NAME_IMAGE_LIST:\n",
    "        print(\"\\n\" + \"\".join([\"*\"]*100))\n",
    "        print(\"\\n\" + \"\".join([\"*\"]*100))\n",
    "        print(\"\\n\" + \"\".join([\"*\"]*100))\n",
    "        PATH_IMAGE = THIS_FOLDER + FOLDER_IMAGE + NAME_IMAGE + FORMAT_IMAGE\n",
    "        TYPE_IMAGE = os.path.basename(os.path.dirname(PATH_IMAGE)) +\"/\"\n",
    "        PATH_EXCEL = THIS_FOLDER + FOLDER_EXCEL + TYPE_IMAGE + NAME_IMAGE + FORMAT_EXCEL\n",
    "        if not os.path.exists(os.path.dirname(PATH_EXCEL)):\n",
    "            os.makedirs(os.path.dirname(PATH_EXCEL))\n",
    "        print(PATH_IMAGE)\n",
    "        print(PATH_EXCEL)\n",
    "        NAME_EXCEL = NAME_IMAGE\n",
    "        \n",
    "        im    = Image.open(PATH_IMAGE)\n",
    "        im_np = np.asarray(im, dtype=int)\n",
    "\n",
    "        print(f\"IMAGE {GetInfoImage(im)}\")# Hauteur x Largeur x Pixel\n",
    "        display(im)\n",
    "        if im.mode == \"RGBA\":\n",
    "            (r, g, b, a) = im.split()\n",
    "            print(f\"Image Transparence (Values{np.unique(np.asarray(a))}) : \")\n",
    "            display(a)\n",
    "        print(\"Précense :\")\n",
    "        check_existing_color(im_np,pixel_df)\n",
    "            \n",
    "        wb = Collision2Excel(im_np)\n",
    "        wb.active.title = NAME_EXCEL\n",
    "        wb.save(PATH_EXCEL)"
   ]
  },
  {
   "cell_type": "markdown",
   "id": "ea50a190",
   "metadata": {},
   "source": [
    "# END <a class=\"anchor\" id=\"END\"></a>\n",
    "* [Sommaire](#TOC)"
   ]
  }
 ],
 "metadata": {
  "kernelspec": {
   "display_name": "Python 3 (ipykernel)",
   "language": "python",
   "name": "python3"
  },
  "language_info": {
   "codemirror_mode": {
    "name": "ipython",
    "version": 3
   },
   "file_extension": ".py",
   "mimetype": "text/x-python",
   "name": "python",
   "nbconvert_exporter": "python",
   "pygments_lexer": "ipython3",
   "version": "3.9.12"
  }
 },
 "nbformat": 4,
 "nbformat_minor": 5
}
